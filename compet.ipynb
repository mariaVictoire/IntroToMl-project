{
 "cells": [
  {
   "cell_type": "code",
   "execution_count": 1,
   "metadata": {},
   "outputs": [],
   "source": [
    "# useful libraries\n",
    "import numpy as np\n",
    "import pandas as pd\n",
    "import matplotlib.pyplot as plt\n",
    "import seaborn as sns\n",
    "\n",
    "# ignore warnings\n",
    "import warnings\n",
    "warnings.filterwarnings('ignore')"
   ]
  },
  {
   "cell_type": "code",
   "execution_count": 2,
   "metadata": {},
   "outputs": [
    {
     "name": "stdout",
     "output_type": "stream",
     "text": [
      "(967332, 14)\n"
     ]
    },
    {
     "data": {
      "text/html": [
       "<div>\n",
       "<style scoped>\n",
       "    .dataframe tbody tr th:only-of-type {\n",
       "        vertical-align: middle;\n",
       "    }\n",
       "\n",
       "    .dataframe tbody tr th {\n",
       "        vertical-align: top;\n",
       "    }\n",
       "\n",
       "    .dataframe thead th {\n",
       "        text-align: right;\n",
       "    }\n",
       "</style>\n",
       "<table border=\"1\" class=\"dataframe\">\n",
       "  <thead>\n",
       "    <tr style=\"text-align: right;\">\n",
       "      <th></th>\n",
       "      <th>auctionId</th>\n",
       "      <th>timeStamp</th>\n",
       "      <th>placementId</th>\n",
       "      <th>websiteId</th>\n",
       "      <th>hashedRefererDeepThree</th>\n",
       "      <th>country</th>\n",
       "      <th>opeartingSystem</th>\n",
       "      <th>browser</th>\n",
       "      <th>browserVersion</th>\n",
       "      <th>device</th>\n",
       "      <th>environmentType</th>\n",
       "      <th>integrationType</th>\n",
       "      <th>articleSafenessCategorization</th>\n",
       "      <th>isSold</th>\n",
       "    </tr>\n",
       "  </thead>\n",
       "  <tbody>\n",
       "    <tr>\n",
       "      <th>0</th>\n",
       "      <td>001ed16b-dd08-4599-b8ef-4f56a373c454_6e5f1087-...</td>\n",
       "      <td>1603815466</td>\n",
       "      <td>120706</td>\n",
       "      <td>68203</td>\n",
       "      <td>1ae7c2d3c28b711c072d8e2eb3869fa59090669bdc153e...</td>\n",
       "      <td>US</td>\n",
       "      <td>Windows</td>\n",
       "      <td>Chrome</td>\n",
       "      <td>86_0</td>\n",
       "      <td>PC</td>\n",
       "      <td>js-web</td>\n",
       "      <td>2</td>\n",
       "      <td>safe</td>\n",
       "      <td>False</td>\n",
       "    </tr>\n",
       "    <tr>\n",
       "      <th>1</th>\n",
       "      <td>0024b36a-4fb5-4070-88fb-fc0bfb1909ed</td>\n",
       "      <td>1603974586</td>\n",
       "      <td>69454</td>\n",
       "      <td>42543</td>\n",
       "      <td>df1108bf6ae49dbccf5eab60ff9d04a6a09dda60ec7290...</td>\n",
       "      <td>RO</td>\n",
       "      <td>Android</td>\n",
       "      <td>Facebook App</td>\n",
       "      <td>293_0</td>\n",
       "      <td>Phone</td>\n",
       "      <td>js-fbwv</td>\n",
       "      <td>1</td>\n",
       "      <td>unsafe</td>\n",
       "      <td>False</td>\n",
       "    </tr>\n",
       "    <tr>\n",
       "      <th>2</th>\n",
       "      <td>003630fa-ad63-4283-be1b-141670132d70_f37c2b23-...</td>\n",
       "      <td>1604229969</td>\n",
       "      <td>100170</td>\n",
       "      <td>57703</td>\n",
       "      <td>cc6957e8aec85a4d920991c53874c5d0780bbfbd469802...</td>\n",
       "      <td>UK</td>\n",
       "      <td>Android</td>\n",
       "      <td>Facebook App</td>\n",
       "      <td>294_0</td>\n",
       "      <td>Phone</td>\n",
       "      <td>js-web</td>\n",
       "      <td>2</td>\n",
       "      <td>safe</td>\n",
       "      <td>True</td>\n",
       "    </tr>\n",
       "    <tr>\n",
       "      <th>3</th>\n",
       "      <td>0048c65a-ce76-43ba-98d2-8e87607468f8</td>\n",
       "      <td>1604156610</td>\n",
       "      <td>100446</td>\n",
       "      <td>57797</td>\n",
       "      <td>7fc0bb7a65d074e003cce786cda2b070f80dd47179c4b9...</td>\n",
       "      <td>ES</td>\n",
       "      <td>Android</td>\n",
       "      <td>Chrome Mobile</td>\n",
       "      <td>86_0</td>\n",
       "      <td>Phone</td>\n",
       "      <td>js-ampsf</td>\n",
       "      <td>1</td>\n",
       "      <td>safe</td>\n",
       "      <td>True</td>\n",
       "    </tr>\n",
       "    <tr>\n",
       "      <th>4</th>\n",
       "      <td>0056b8a7-54f9-4ac8-8d50-f725bf377872</td>\n",
       "      <td>1604004493</td>\n",
       "      <td>119517</td>\n",
       "      <td>67613</td>\n",
       "      <td>3a6552ccbf66ad166aa9005c3e08f70716abd676cfd87b...</td>\n",
       "      <td>FR</td>\n",
       "      <td>Android</td>\n",
       "      <td>Facebook App</td>\n",
       "      <td>293_0</td>\n",
       "      <td>Phone</td>\n",
       "      <td>js-fbwv</td>\n",
       "      <td>1</td>\n",
       "      <td>unsafe</td>\n",
       "      <td>False</td>\n",
       "    </tr>\n",
       "  </tbody>\n",
       "</table>\n",
       "</div>"
      ],
      "text/plain": [
       "                                           auctionId   timeStamp  placementId  \\\n",
       "0  001ed16b-dd08-4599-b8ef-4f56a373c454_6e5f1087-...  1603815466       120706   \n",
       "1               0024b36a-4fb5-4070-88fb-fc0bfb1909ed  1603974586        69454   \n",
       "2  003630fa-ad63-4283-be1b-141670132d70_f37c2b23-...  1604229969       100170   \n",
       "3               0048c65a-ce76-43ba-98d2-8e87607468f8  1604156610       100446   \n",
       "4               0056b8a7-54f9-4ac8-8d50-f725bf377872  1604004493       119517   \n",
       "\n",
       "   websiteId                             hashedRefererDeepThree country  \\\n",
       "0      68203  1ae7c2d3c28b711c072d8e2eb3869fa59090669bdc153e...      US   \n",
       "1      42543  df1108bf6ae49dbccf5eab60ff9d04a6a09dda60ec7290...      RO   \n",
       "2      57703  cc6957e8aec85a4d920991c53874c5d0780bbfbd469802...      UK   \n",
       "3      57797  7fc0bb7a65d074e003cce786cda2b070f80dd47179c4b9...      ES   \n",
       "4      67613  3a6552ccbf66ad166aa9005c3e08f70716abd676cfd87b...      FR   \n",
       "\n",
       "  opeartingSystem        browser browserVersion device environmentType  \\\n",
       "0         Windows         Chrome           86_0     PC          js-web   \n",
       "1         Android   Facebook App          293_0  Phone         js-fbwv   \n",
       "2         Android   Facebook App          294_0  Phone          js-web   \n",
       "3         Android  Chrome Mobile           86_0  Phone        js-ampsf   \n",
       "4         Android   Facebook App          293_0  Phone         js-fbwv   \n",
       "\n",
       "   integrationType articleSafenessCategorization  isSold  \n",
       "0                2                          safe   False  \n",
       "1                1                        unsafe   False  \n",
       "2                2                          safe    True  \n",
       "3                1                          safe    True  \n",
       "4                1                        unsafe   False  "
      ]
     },
     "execution_count": 2,
     "metadata": {},
     "output_type": "execute_result"
    }
   ],
   "source": [
    "df = pd.read_csv('train.csv')\n",
    "\n",
    "print(df.shape)\n",
    "df.head()"
   ]
  },
  {
   "cell_type": "code",
   "execution_count": 3,
   "metadata": {},
   "outputs": [
    {
     "name": "stdout",
     "output_type": "stream",
     "text": [
      "<class 'pandas.core.frame.DataFrame'>\n",
      "RangeIndex: 967332 entries, 0 to 967331\n",
      "Data columns (total 14 columns):\n",
      " #   Column                         Non-Null Count   Dtype \n",
      "---  ------                         --------------   ----- \n",
      " 0   auctionId                      967332 non-null  object\n",
      " 1   timeStamp                      967332 non-null  int64 \n",
      " 2   placementId                    967332 non-null  int64 \n",
      " 3   websiteId                      967332 non-null  int64 \n",
      " 4   hashedRefererDeepThree         951349 non-null  object\n",
      " 5   country                        966900 non-null  object\n",
      " 6   opeartingSystem                967332 non-null  object\n",
      " 7   browser                        967332 non-null  object\n",
      " 8   browserVersion                 837388 non-null  object\n",
      " 9   device                         967332 non-null  object\n",
      " 10  environmentType                967328 non-null  object\n",
      " 11  integrationType                967332 non-null  int64 \n",
      " 12  articleSafenessCategorization  967332 non-null  object\n",
      " 13  isSold                         967332 non-null  bool  \n",
      "dtypes: bool(1), int64(4), object(9)\n",
      "memory usage: 96.9+ MB\n"
     ]
    }
   ],
   "source": [
    "df.info()"
   ]
  },
  {
   "cell_type": "code",
   "execution_count": 4,
   "metadata": {},
   "outputs": [
    {
     "data": {
      "text/html": [
       "<div>\n",
       "<style scoped>\n",
       "    .dataframe tbody tr th:only-of-type {\n",
       "        vertical-align: middle;\n",
       "    }\n",
       "\n",
       "    .dataframe tbody tr th {\n",
       "        vertical-align: top;\n",
       "    }\n",
       "\n",
       "    .dataframe thead th {\n",
       "        text-align: right;\n",
       "    }\n",
       "</style>\n",
       "<table border=\"1\" class=\"dataframe\">\n",
       "  <thead>\n",
       "    <tr style=\"text-align: right;\">\n",
       "      <th></th>\n",
       "      <th>timeStamp</th>\n",
       "      <th>placementId</th>\n",
       "      <th>websiteId</th>\n",
       "      <th>integrationType</th>\n",
       "    </tr>\n",
       "  </thead>\n",
       "  <tbody>\n",
       "    <tr>\n",
       "      <th>count</th>\n",
       "      <td>9.673320e+05</td>\n",
       "      <td>967332.000000</td>\n",
       "      <td>967332.000000</td>\n",
       "      <td>967332.000000</td>\n",
       "    </tr>\n",
       "    <tr>\n",
       "      <th>mean</th>\n",
       "      <td>1.603976e+09</td>\n",
       "      <td>114074.378447</td>\n",
       "      <td>57675.090327</td>\n",
       "      <td>1.805757</td>\n",
       "    </tr>\n",
       "    <tr>\n",
       "      <th>std</th>\n",
       "      <td>1.762639e+05</td>\n",
       "      <td>17598.066714</td>\n",
       "      <td>14200.058036</td>\n",
       "      <td>0.395617</td>\n",
       "    </tr>\n",
       "    <tr>\n",
       "      <th>min</th>\n",
       "      <td>1.603670e+09</td>\n",
       "      <td>18341.000000</td>\n",
       "      <td>13734.000000</td>\n",
       "      <td>1.000000</td>\n",
       "    </tr>\n",
       "    <tr>\n",
       "      <th>25%</th>\n",
       "      <td>1.603823e+09</td>\n",
       "      <td>108383.000000</td>\n",
       "      <td>49049.000000</td>\n",
       "      <td>2.000000</td>\n",
       "    </tr>\n",
       "    <tr>\n",
       "      <th>50%</th>\n",
       "      <td>1.603978e+09</td>\n",
       "      <td>120938.000000</td>\n",
       "      <td>60581.000000</td>\n",
       "      <td>2.000000</td>\n",
       "    </tr>\n",
       "    <tr>\n",
       "      <th>75%</th>\n",
       "      <td>1.604133e+09</td>\n",
       "      <td>124467.000000</td>\n",
       "      <td>68951.000000</td>\n",
       "      <td>2.000000</td>\n",
       "    </tr>\n",
       "    <tr>\n",
       "      <th>max</th>\n",
       "      <td>1.604275e+09</td>\n",
       "      <td>133258.000000</td>\n",
       "      <td>74126.000000</td>\n",
       "      <td>2.000000</td>\n",
       "    </tr>\n",
       "  </tbody>\n",
       "</table>\n",
       "</div>"
      ],
      "text/plain": [
       "          timeStamp    placementId      websiteId  integrationType\n",
       "count  9.673320e+05  967332.000000  967332.000000    967332.000000\n",
       "mean   1.603976e+09  114074.378447   57675.090327         1.805757\n",
       "std    1.762639e+05   17598.066714   14200.058036         0.395617\n",
       "min    1.603670e+09   18341.000000   13734.000000         1.000000\n",
       "25%    1.603823e+09  108383.000000   49049.000000         2.000000\n",
       "50%    1.603978e+09  120938.000000   60581.000000         2.000000\n",
       "75%    1.604133e+09  124467.000000   68951.000000         2.000000\n",
       "max    1.604275e+09  133258.000000   74126.000000         2.000000"
      ]
     },
     "execution_count": 4,
     "metadata": {},
     "output_type": "execute_result"
    }
   ],
   "source": [
    "df.describe()"
   ]
  },
  {
   "cell_type": "code",
   "execution_count": 5,
   "metadata": {},
   "outputs": [
    {
     "data": {
      "text/plain": [
       "array(['US', 'RO', 'UK', 'ES', 'FR', 'CA', 'ZA', 'DE', 'GR', 'AU', 'NO',\n",
       "       'JP', 'NL', 'MX', 'FI', 'CZ', 'MY', 'NZ', 'KR', 'LU', 'JE', 'AR',\n",
       "       'CH', 'DK', 'PL', 'IT', 'IE', 'PR', 'AE', 'AT', 'BR', 'PE', 'VN',\n",
       "       'TW', 'CN', 'RE', 'PT', 'EE', 'SE', 'KH', 'CL', 'TH', 'GT', 'CO',\n",
       "       'UA', 'IN', 'CR', 'BE', 'SG', 'PA', 'TT', 'JM', 'CY', 'GF', 'AS',\n",
       "       'SK', 'HU', 'PH', 'LB', 'UY', 'IS', 'GP', 'BA', 'LT', 'PY', 'LV',\n",
       "       'SA', 'IL', 'EG', 'KW', 'IM', 'SC', 'HR', 'ZM', 'TR', 'BB', 'GG',\n",
       "       'QA', 'TN', 'EC', 'DO', 'MQ', 'MA', 'ID', 'TZ', 'JO', 'CM', 'SN',\n",
       "       'BD', 'MV', 'GA', 'MC', 'SV', 'VG', 'RU', 'NG', 'DZ', 'HK', 'AL',\n",
       "       'NI', 'HN', 'LA', 'NP', 'KE', 'BH', nan, 'BS', 'HT', 'BF', 'LY',\n",
       "       'LK', 'GH', 'MU', 'MG', 'CD', 'NC', 'ME', 'BI', 'GN', 'MT', 'MM',\n",
       "       'MK', 'NE', 'MD', 'BN', 'RS', 'AO', 'CW', 'KM', 'ET', 'YE', 'BM',\n",
       "       'BG', 'BJ', 'SO', 'BO', 'SI', 'GU', 'AD', 'DM', 'AM', 'CI', 'GE',\n",
       "       'BZ', 'CG', 'PG', 'PF', 'GY', 'KZ', 'VI', 'LC', 'KN', 'MO', 'BW',\n",
       "       'OM', 'MR', 'MN', 'KY', 'LI', 'YT', 'PS', 'CV', 'AZ', 'TD', 'VC',\n",
       "       'MZ', 'KG', 'UZ', 'GD', 'TG', 'SB', 'DJ', 'SS', 'UG', 'BT', 'SX',\n",
       "       'BQ', 'LS', 'GI', 'RW', 'FJ', 'GM', 'SR', 'AW', 'MW', 'TO', 'MP',\n",
       "       'AI', 'AG', 'NR', 'CK', 'SZ', 'IO', 'FO', 'CF', 'EU', 'NF', 'VU',\n",
       "       'AX', 'TC', 'TJ', 'ST', 'GQ', 'PM', 'ML', 'VA', 'SM', 'FM', 'TL',\n",
       "       'MF', 'GW', 'WF', 'WS', 'PW', 'FK', 'GL'], dtype=object)"
      ]
     },
     "execution_count": 5,
     "metadata": {},
     "output_type": "execute_result"
    }
   ],
   "source": [
    "df[\"country\"].unique()"
   ]
  },
  {
   "cell_type": "code",
   "execution_count": 6,
   "metadata": {},
   "outputs": [
    {
     "data": {
      "text/plain": [
       "array(['Windows', 'Android', 'macOS', 'iOS', 'OS X', 'Fire OS',\n",
       "       'Chrome OS', 'Linux', 'BSD', 'Tizen', 'KaiOS', 'unknown', 'JVM',\n",
       "       'MRE', 'Mac OS'], dtype=object)"
      ]
     },
     "execution_count": 6,
     "metadata": {},
     "output_type": "execute_result"
    }
   ],
   "source": [
    "df[\"opeartingSystem\"].unique()"
   ]
  },
  {
   "cell_type": "code",
   "execution_count": 7,
   "metadata": {},
   "outputs": [
    {
     "data": {
      "image/png": "[encoded data removed]",
      "text/plain": [
       "<Figure size 640x480 with 1 Axes>"
      ]
     },
     "metadata": {},
     "output_type": "display_data"
    }
   ],
   "source": [
    "fig, ax = plt.subplots()\n",
    "g = sns.countplot(data=df, x='isSold', palette='viridis')\n",
    "g.set_xticklabels(['Not Sold', 'Sold'])\n",
    "\n",
    "def show_values_on_bars(ax):\n",
    "    for p in ax.patches:\n",
    "        _x = p.get_x() + p.get_width() / 2\n",
    "        _y = p.get_y() + p.get_height()\n",
    "        value = '{:.0f}'.format(p.get_height())\n",
    "        ax.text(_x, _y, value, ha=\"center\")\n",
    "\n",
    "show_values_on_bars(ax)\n",
    "\n",
    "sns.despine(left=True, bottom=True)\n",
    "plt.xlabel('')\n",
    "plt.ylabel('')\n",
    "plt.title('Distribution of Transactions', fontsize=30)\n",
    "plt.xticks(fontsize=8)  # Adjust the font size of x-axis tick labels\n",
    "\n",
    "plt.show()"
   ]
  },
  {
   "cell_type": "code",
   "execution_count": 8,
   "metadata": {},
   "outputs": [
    {
     "name": "stdout",
     "output_type": "stream",
     "text": [
      "<class 'pandas.core.frame.DataFrame'>\n",
      "RangeIndex: 967332 entries, 0 to 967331\n",
      "Data columns (total 14 columns):\n",
      " #   Column                         Non-Null Count   Dtype \n",
      "---  ------                         --------------   ----- \n",
      " 0   auctionId                      967332 non-null  object\n",
      " 1   timeStamp                      967332 non-null  int64 \n",
      " 2   placementId                    967332 non-null  int64 \n",
      " 3   websiteId                      967332 non-null  int64 \n",
      " 4   hashedRefererDeepThree         951349 non-null  object\n",
      " 5   country                        966900 non-null  object\n",
      " 6   opeartingSystem                967332 non-null  object\n",
      " 7   browser                        967332 non-null  object\n",
      " 8   browserVersion                 837388 non-null  object\n",
      " 9   device                         967332 non-null  object\n",
      " 10  environmentType                967328 non-null  object\n",
      " 11  integrationType                967332 non-null  int64 \n",
      " 12  articleSafenessCategorization  967332 non-null  object\n",
      " 13  isSold                         967332 non-null  bool  \n",
      "dtypes: bool(1), int64(4), object(9)\n",
      "memory usage: 96.9+ MB\n"
     ]
    }
   ],
   "source": [
    "df.info()"
   ]
  },
  {
   "cell_type": "code",
   "execution_count": 9,
   "metadata": {},
   "outputs": [
    {
     "data": {
      "text/html": [
       "<div>\n",
       "<style scoped>\n",
       "    .dataframe tbody tr th:only-of-type {\n",
       "        vertical-align: middle;\n",
       "    }\n",
       "\n",
       "    .dataframe tbody tr th {\n",
       "        vertical-align: top;\n",
       "    }\n",
       "\n",
       "    .dataframe thead th {\n",
       "        text-align: right;\n",
       "    }\n",
       "</style>\n",
       "<table border=\"1\" class=\"dataframe\">\n",
       "  <thead>\n",
       "    <tr style=\"text-align: right;\">\n",
       "      <th></th>\n",
       "      <th>integrationType</th>\n",
       "      <th>isSold</th>\n",
       "      <th>device_PC</th>\n",
       "      <th>device_Phone</th>\n",
       "      <th>device_Tablet</th>\n",
       "    </tr>\n",
       "  </thead>\n",
       "  <tbody>\n",
       "    <tr>\n",
       "      <th>0</th>\n",
       "      <td>2</td>\n",
       "      <td>0</td>\n",
       "      <td>1.0</td>\n",
       "      <td>0.0</td>\n",
       "      <td>0.0</td>\n",
       "    </tr>\n",
       "    <tr>\n",
       "      <th>1</th>\n",
       "      <td>1</td>\n",
       "      <td>0</td>\n",
       "      <td>0.0</td>\n",
       "      <td>1.0</td>\n",
       "      <td>0.0</td>\n",
       "    </tr>\n",
       "    <tr>\n",
       "      <th>2</th>\n",
       "      <td>2</td>\n",
       "      <td>1</td>\n",
       "      <td>0.0</td>\n",
       "      <td>1.0</td>\n",
       "      <td>0.0</td>\n",
       "    </tr>\n",
       "    <tr>\n",
       "      <th>3</th>\n",
       "      <td>1</td>\n",
       "      <td>1</td>\n",
       "      <td>0.0</td>\n",
       "      <td>1.0</td>\n",
       "      <td>0.0</td>\n",
       "    </tr>\n",
       "    <tr>\n",
       "      <th>4</th>\n",
       "      <td>1</td>\n",
       "      <td>0</td>\n",
       "      <td>0.0</td>\n",
       "      <td>1.0</td>\n",
       "      <td>0.0</td>\n",
       "    </tr>\n",
       "  </tbody>\n",
       "</table>\n",
       "</div>"
      ],
      "text/plain": [
       "   integrationType  isSold  device_PC  device_Phone  device_Tablet\n",
       "0                2       0        1.0           0.0            0.0\n",
       "1                1       0        0.0           1.0            0.0\n",
       "2                2       1        0.0           1.0            0.0\n",
       "3                1       1        0.0           1.0            0.0\n",
       "4                1       0        0.0           1.0            0.0"
      ]
     },
     "execution_count": 9,
     "metadata": {},
     "output_type": "execute_result"
    }
   ],
   "source": [
    "df_dum = pd.get_dummies(df, columns=['device'], drop_first=True, dtype=float)\n",
    "df_test = df_dum[[\"timeStamp\", \"placementId\", \"websiteId\", \"integrationType\", \"isSold\", \"device_PC\", \"device_Phone\", \"device_Tablet\"]]\n",
    "df_test = df_dum[[\"integrationType\", \"isSold\", \"device_PC\", \"device_Phone\", \"device_Tablet\"]]\n",
    "\n",
    "df_test[\"isSold\"] = df_test[\"isSold\"].apply(lambda x: 1 if x else 0)\n",
    "df_test.head()"
   ]
  },
  {
   "cell_type": "code",
   "execution_count": 10,
   "metadata": {},
   "outputs": [],
   "source": [
    "from sklearn.model_selection import train_test_split\n",
    "\n",
    "y = df_test[\"isSold\"]\n",
    "X = df_test.drop(\"isSold\", axis=1)\n",
    "\n",
    "# setting up testing and training sets\n",
    "X_train, X_test, y_train, y_test = train_test_split(X, y, test_size=0.25, random_state=27)"
   ]
  },
  {
   "cell_type": "code",
   "execution_count": 11,
   "metadata": {},
   "outputs": [
    {
     "name": "stdout",
     "output_type": "stream",
     "text": [
      "F1-score is  0.24997584707749637\n"
     ]
    }
   ],
   "source": [
    "from sklearn.linear_model import LogisticRegression\n",
    "from sklearn.metrics import f1_score\n",
    "\n",
    "\n",
    "lr = LogisticRegression(solver='liblinear').fit(X_train, y_train)\n",
    "lr_pred = lr.predict(X_test)\n",
    "print('F1-score is ', f1_score(y_test, lr_pred))"
   ]
  },
  {
   "cell_type": "code",
   "execution_count": null,
   "metadata": {},
   "outputs": [],
   "source": []
  },
  {
   "cell_type": "code",
   "execution_count": null,
   "metadata": {},
   "outputs": [],
   "source": []
  },
  {
   "cell_type": "code",
   "execution_count": null,
   "metadata": {},
   "outputs": [],
   "source": []
  },
  {
   "cell_type": "code",
   "execution_count": null,
   "metadata": {},
   "outputs": [],
   "source": []
  },
  {
   "cell_type": "code",
   "execution_count": null,
   "metadata": {},
   "outputs": [],
   "source": []
  },
  {
   "cell_type": "markdown",
   "metadata": {},
   "source": [
    "# Conversion csv \n",
    "\n",
    "---"
   ]
  },
  {
   "cell_type": "code",
   "execution_count": 12,
   "metadata": {},
   "outputs": [],
   "source": [
    "df_test = pd.read_csv('test.csv')\n",
    "\n",
    "# A modifier suivant le dataframe modifie\n",
    "df_dum = pd.get_dummies(df_test, columns=['device'], drop_first=True, dtype=float)\n",
    "df_t = df_dum[[\"integrationType\", \"device_PC\", \"device_Phone\", \"device_Tablet\"]]\n",
    "\n",
    "X_eval = df_t\n",
    "\n",
    "# A modifier suivant le modele utilise\n",
    "lr = LogisticRegression(solver='liblinear').fit(X_train, y_train)\n",
    "lr_pred = lr.predict(X_eval)\n",
    "bool_array = np.where(lr_pred == 1, True, False)\n",
    "\n",
    "results = pd.DataFrame(bool_array, columns=[\"isSold\"])\n",
    "df_final = pd.concat([df_test[\"auctionId\"], results] ,axis=1)\n",
    "df_final.to_csv('test_submit.csv', index=False)"
   ]
  },
  {
   "cell_type": "markdown",
   "metadata": {},
   "source": [
    "---"
   ]
  },
  {
   "cell_type": "code",
   "execution_count": null,
   "metadata": {},
   "outputs": [],
   "source": []
  },
  {
   "cell_type": "code",
   "execution_count": null,
   "metadata": {},
   "outputs": [],
   "source": []
  }
 ],
 "metadata": {
  "kernelspec": {
   "display_name": "Python 3",
   "language": "python",
   "name": "python3"
  },
  "language_info": {
   "codemirror_mode": {
    "name": "ipython",
    "version": 3
   },
   "file_extension": ".py",
   "mimetype": "text/x-python",
   "name": "python",
   "nbconvert_exporter": "python",
   "pygments_lexer": "ipython3",
   "version": "3.12.2"
  }
 },
 "nbformat": 4,
 "nbformat_minor": 2
}
